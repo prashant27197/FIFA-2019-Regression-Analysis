{
  "nbformat": 4,
  "nbformat_minor": 0,
  "metadata": {
    "colab": {
      "name": "FIFA DATA ANALYSIS 2019",
      "private_outputs": true,
      "provenance": []
    },
    "kernelspec": {
      "name": "python3",
      "display_name": "Python 3"
    },
    "language_info": {
      "name": "python"
    }
  },
  "cells": [
    {
      "cell_type": "markdown",
      "metadata": {
        "id": "f1pfIN3lqXFz"
      },
      "source": [
        "# FIFA DATA ANALYSIS\n",
        "\n"
      ]
    },
    {
      "cell_type": "code",
      "metadata": {
        "id": "FZwmszJWPGsO"
      },
      "source": [
        "#importing Labirary\n",
        "import numpy as np\n",
        "import pandas as pd\n",
        "import matplotlib.pyplot as plt\n",
        "%matplotlib inline\n",
        "import seaborn as sns"
      ],
      "execution_count": null,
      "outputs": []
    },
    {
      "cell_type": "code",
      "metadata": {
        "id": "0eKLsQVh1-c8"
      },
      "source": [
        "data= pd.read_csv('/content/players_19.csv',index_col=0)"
      ],
      "execution_count": null,
      "outputs": []
    },
    {
      "cell_type": "code",
      "metadata": {
        "id": "VeQB54M4PmgT"
      },
      "source": [
        "#to view full number of rows and columns\n",
        "pd.set_option('display.max_columns',None)\n",
        "pd.set_option('display.max_rows',None)"
      ],
      "execution_count": null,
      "outputs": []
    },
    {
      "cell_type": "code",
      "metadata": {
        "id": "9n6ocj4HUb2k"
      },
      "source": [
        "data.columns"
      ],
      "execution_count": null,
      "outputs": []
    },
    {
      "cell_type": "code",
      "metadata": {
        "id": "McsLrAoUQY_j"
      },
      "source": [
        "#to view top 5 rows for data.  \n",
        "data.head()"
      ],
      "execution_count": null,
      "outputs": []
    },
    {
      "cell_type": "code",
      "metadata": {
        "id": "jVExxIffQedu"
      },
      "source": [
        "#to know shape of data.\n",
        "data.shape"
      ],
      "execution_count": null,
      "outputs": []
    },
    {
      "cell_type": "code",
      "metadata": {
        "id": "SNEpBhOuQwLk"
      },
      "source": [
        "#droping unnecessary columns\n",
        "data.drop(['Photo','Flag','Club Logo','Real Face','Jersey Number','Loaned From'],axis=1,inplace=True)\n",
        "data.shape"
      ],
      "execution_count": null,
      "outputs": []
    },
    {
      "cell_type": "code",
      "metadata": {
        "id": "fvpVXMYoTr4r"
      },
      "source": [
        "data.info()"
      ],
      "execution_count": null,
      "outputs": []
    },
    {
      "cell_type": "code",
      "metadata": {
        "id": "A5LYesVAUZOD"
      },
      "source": [
        "data.isnull().sum()"
      ],
      "execution_count": null,
      "outputs": []
    },
    {
      "cell_type": "markdown",
      "metadata": {
        "id": "3-ItdMdjTKvW"
      },
      "source": [
        "# DATA CLEANING"
      ]
    },
    {
      "cell_type": "markdown",
      "metadata": {
        "id": "1E-ydVYW8hC2"
      },
      "source": [
        "Wage,Value & Release Clause- cleaning them by removing M,K & currency sign."
      ]
    },
    {
      "cell_type": "code",
      "metadata": {
        "id": "VPjgRN5z7QNP"
      },
      "source": [
        "def to_Int(data_value):\n",
        "  \n",
        "  try:\n",
        "    value = float(data_value[1:-1])\n",
        "    sign = data_value[-1:]\n",
        "\n",
        "    if sign==\"M\":\n",
        "      value = value*1000000\n",
        "    elif sign ==\"K\":\n",
        "      value = value*1000\n",
        "  except ValueError:\n",
        "    value = 0\n",
        "  return value"
      ],
      "execution_count": null,
      "outputs": []
    },
    {
      "cell_type": "code",
      "metadata": {
        "id": "APVkrZJ27UpO"
      },
      "source": [
        "def val_cov(Value):\n",
        "  if isinstance(Value,str):\n",
        "    out = Value.replace('€','')\n",
        "    if 'M' in out:\n",
        "      out = float(out.replace('M',''))*1000000\n",
        "    elif 'K' in out:\n",
        "      out = float(out.replace('K',''))*1000\n",
        "    return float(out)"
      ],
      "execution_count": null,
      "outputs": []
    },
    {
      "cell_type": "code",
      "metadata": {
        "id": "fPwX7SZSO879"
      },
      "source": [
        "data['Wage']= data['Wage'].apply(val_cov)\n",
        "data['Value']= data['Value'].apply(val_cov)"
      ],
      "execution_count": null,
      "outputs": []
    },
    {
      "cell_type": "code",
      "metadata": {
        "id": "SBwQHvL0RhzX"
      },
      "source": [
        "data['Release Clause']=data['Release Clause'].apply(val_cov)"
      ],
      "execution_count": null,
      "outputs": []
    },
    {
      "cell_type": "code",
      "metadata": {
        "id": "fBiN-4ouRv0o"
      },
      "source": [
        "data.head()"
      ],
      "execution_count": null,
      "outputs": []
    },
    {
      "cell_type": "code",
      "metadata": {
        "id": "OIgA8f9yN5hx"
      },
      "source": [
        "plt.figure(figsize=(12,8))\n",
        "sns.regplot(data=data, x=\"Age\", y=\"Potential\")\n",
        "plt.ylabel(\"Potential\", fontsize = 18)\n",
        "plt.xlabel(\"Age\", fontsize = 18)\n",
        "plt.title(\"Numeber of Players v/s Age \",fontsize = 25)\n",
        "plt.show()\n",
        "pd.DataFrame(data[\"Potential\"].describe())"
      ],
      "execution_count": null,
      "outputs": []
    },
    {
      "cell_type": "code",
      "metadata": {
        "id": "6CiawHQSOSpv"
      },
      "source": [
        "corr = data.corr()\n",
        "mask = np.zeros_like(corr)\n",
        "mask[np.triu_indices_from(mask)] = True\n",
        "with sns.axes_style(\"white\"):\n",
        "    f, ax = plt.subplots(figsize=(15, 15))\n",
        "    ax = sns.heatmap(corr,mask=mask,square=True,linewidths=.8,cmap=\"YlGnBu\")"
      ],
      "execution_count": null,
      "outputs": []
    },
    {
      "cell_type": "code",
      "metadata": {
        "id": "UPmTNh72SDOW"
      },
      "source": [
        "data._get_numeric_data().columns"
      ],
      "execution_count": null,
      "outputs": []
    },
    {
      "cell_type": "code",
      "metadata": {
        "id": "KSmG7qL2Szxa"
      },
      "source": [
        "numerical_list = data._get_numeric_data().columns"
      ],
      "execution_count": null,
      "outputs": []
    },
    {
      "cell_type": "code",
      "metadata": {
        "id": "tO-DalzJS4R6"
      },
      "source": [
        "#filling null values with their means\n",
        "\n",
        "for i in range(len(numerical_list)):\n",
        "  data[numerical_list[i]].fillna(data[numerical_list[i]].mean(),inplace= True)"
      ],
      "execution_count": null,
      "outputs": []
    },
    {
      "cell_type": "code",
      "metadata": {
        "id": "MloE62vQTkGH"
      },
      "source": [
        "data.info()\n"
      ],
      "execution_count": null,
      "outputs": []
    },
    {
      "cell_type": "code",
      "metadata": {
        "id": "fB_kwFJxTmUL"
      },
      "source": [
        "#cleaning joined date\n",
        "def clean_date(dat):\n",
        "  arr = []\n",
        "  if isinstance(dat,str):\n",
        "   l = dat.split(\",\")\n",
        "   dat = l[-1]\n",
        "  return (dat)\n",
        "\n",
        "\n",
        "data['Joined']=data['Joined'].apply(clean_date)\n",
        "data['Joined'].fillna(data['Joined'].mode()[0],inplace=True)\n",
        "data.head(1)"
      ],
      "execution_count": null,
      "outputs": []
    },
    {
      "cell_type": "code",
      "metadata": {
        "id": "MRFu4z9SW7CL"
      },
      "source": [
        "data['Joined'].dtypes"
      ],
      "execution_count": null,
      "outputs": []
    },
    {
      "cell_type": "code",
      "metadata": {
        "id": "WGGu_obOX8bV"
      },
      "source": [
        "data['Joined']=data['Joined'].astype(int)\n",
        "data['Joined'].dtypes"
      ],
      "execution_count": null,
      "outputs": []
    },
    {
      "cell_type": "code",
      "metadata": {
        "id": "UJ5LGjlsZAME"
      },
      "source": [
        "data['Club'].fillna('Unknown',inplace=True)\n",
        "data['Club'].isnull().sum()"
      ],
      "execution_count": null,
      "outputs": []
    },
    {
      "cell_type": "code",
      "metadata": {
        "id": "y-8X8ndrai_S"
      },
      "source": [
        "data['Preferred Foot'].value_counts()"
      ],
      "execution_count": null,
      "outputs": []
    },
    {
      "cell_type": "code",
      "metadata": {
        "id": "mQhUNnQbbM6V"
      },
      "source": [
        "data['Preferred Foot'].fillna('Right',inplace = True)"
      ],
      "execution_count": null,
      "outputs": []
    },
    {
      "cell_type": "code",
      "metadata": {
        "id": "qLTKasnLbZZ4"
      },
      "source": [
        "data['Preferred Foot'].value_counts()"
      ],
      "execution_count": null,
      "outputs": []
    },
    {
      "cell_type": "code",
      "metadata": {
        "id": "LGbbM-0fbvp8"
      },
      "source": [
        "data['Work Rate'].value_counts()"
      ],
      "execution_count": null,
      "outputs": []
    },
    {
      "cell_type": "code",
      "metadata": {
        "id": "YX4GXLK6b2nN"
      },
      "source": [
        "data['Work Rate'].fillna('Medium/ Medium',inplace=True)\n",
        "data['Work Rate'].value_counts()"
      ],
      "execution_count": null,
      "outputs": []
    },
    {
      "cell_type": "code",
      "metadata": {
        "id": "usbHEWP_cTdd"
      },
      "source": [
        "data['Body Type'].value_counts()"
      ],
      "execution_count": null,
      "outputs": []
    },
    {
      "cell_type": "code",
      "metadata": {
        "id": "eYTJL-Lmceq6"
      },
      "source": [
        "#filling null values of body type with mode.\n",
        "data['Body Type'].fillna('Normal',inplace=True)"
      ],
      "execution_count": null,
      "outputs": []
    },
    {
      "cell_type": "code",
      "metadata": {
        "id": "6_JXZcPE_i_o"
      },
      "source": [
        "data['Body Type'][data['Body Type']=='Messi']='Lean'\n",
        "data['Body Type'][data['Body Type']=='C. Ronaldo']='Normal'\n",
        "data['Body Type'][data['Body Type']=='PLAYER_BODY_TYPE_25']='Normal'\n",
        "data['Body Type'][data['Body Type']=='Neymar']='Lean'\n",
        "data['Body Type'][data['Body Type']=='Akinfenwa']='Stocky'\n",
        "data['Body Type'][data['Body Type']=='Shaqiri']='Stocky'\n",
        "data['Body Type'][data['Body Type']=='Courtois']='Normal'\n"
      ],
      "execution_count": null,
      "outputs": []
    },
    {
      "cell_type": "code",
      "metadata": {
        "id": "JoOe85YJcweN"
      },
      "source": [
        "data['Body Type'].value_counts()"
      ],
      "execution_count": null,
      "outputs": []
    },
    {
      "cell_type": "code",
      "metadata": {
        "id": "nzyrWGw-c5iU"
      },
      "source": [
        "data['Position'].value_counts()"
      ],
      "execution_count": null,
      "outputs": []
    },
    {
      "cell_type": "code",
      "metadata": {
        "id": "pjv9H0xzdpZl"
      },
      "source": [
        "data['Position'].fillna('ST',inplace=True)\n",
        "data['Position'].value_counts()"
      ],
      "execution_count": null,
      "outputs": []
    },
    {
      "cell_type": "code",
      "metadata": {
        "id": "WHqO4t96e6wI"
      },
      "source": [
        "data['Contract Valid Until'] = data['Contract Valid Until'].apply(clean_date)\n",
        "data['Contract Valid Until'].describe()\n",
        "\n"
      ],
      "execution_count": null,
      "outputs": []
    },
    {
      "cell_type": "code",
      "metadata": {
        "id": "0V8CtqvvgA6t"
      },
      "source": [
        "data['Contract Valid Until'].fillna(data['Contract Valid Until'].mode()[0],inplace=True)"
      ],
      "execution_count": null,
      "outputs": []
    },
    {
      "cell_type": "code",
      "metadata": {
        "id": "RuOH9WC1ha7U"
      },
      "source": [
        "data['Contract Valid Until'].isnull().sum()"
      ],
      "execution_count": null,
      "outputs": []
    },
    {
      "cell_type": "code",
      "metadata": {
        "id": "zGxAiax6h83i"
      },
      "source": [
        "data['Contract Valid Until']=data['Contract Valid Until'].astype(int)\n",
        "data['Contract Valid Until'].dtypes"
      ],
      "execution_count": null,
      "outputs": []
    },
    {
      "cell_type": "code",
      "metadata": {
        "id": "mIGnOWnhjG1S"
      },
      "source": [
        "#Cleaning Height\n",
        "def clean_height(h):\n",
        "   arr = []\n",
        "   final_height_cm =1\n",
        "   if isinstance(h,str):\n",
        "     arr = h.split(\"'\")\n",
        "     foot = int(arr[0])\n",
        "     inch = int(arr[1])\n",
        "     final_height_cm =((foot*12)+inch)*2.54\n",
        "   return(final_height_cm)\n"
      ],
      "execution_count": null,
      "outputs": []
    },
    {
      "cell_type": "code",
      "metadata": {
        "id": "SYhQErU7lWp2"
      },
      "source": [
        "data['Height']=data['Height'].apply(clean_height)\n",
        "data['Height'].fillna(data['Height'].mean(),inplace = True)"
      ],
      "execution_count": null,
      "outputs": []
    },
    {
      "cell_type": "code",
      "metadata": {
        "id": "rFVYk_Bal9Ws"
      },
      "source": [
        "#cleaning weight \n",
        "data['Weight']=data['Weight'].str.replace(r'lbs',\"\")\n",
        "data.head(1)\n"
      ],
      "execution_count": null,
      "outputs": []
    },
    {
      "cell_type": "code",
      "metadata": {
        "id": "msoAjUgonVmU"
      },
      "source": [
        "data['Weight']= data['Weight'].astype('float')\n",
        "data['Weight'].fillna(data['Weight'].mean(),inplace = True)"
      ],
      "execution_count": null,
      "outputs": []
    },
    {
      "cell_type": "code",
      "metadata": {
        "id": "8HW32MLmpFSj"
      },
      "source": [
        "def clean_point(point):\n",
        "  if isinstance(point,str):\n",
        "    arr =[]\n",
        "    arr = point.split(\"+\")\n",
        "    arr1= int(arr[0])\n",
        "    arr2=int(arr[1])\n",
        "    fin_point=(arr1+arr2)\n",
        "    return(fin_point)"
      ],
      "execution_count": null,
      "outputs": []
    },
    {
      "cell_type": "code",
      "metadata": {
        "id": "0a-yMhBJq8o5"
      },
      "source": [
        "column = data.columns"
      ],
      "execution_count": null,
      "outputs": []
    },
    {
      "cell_type": "code",
      "metadata": {
        "id": "EJppXbkl1qTS"
      },
      "source": [
        "for i in range(21,47):\n",
        "  data[column[i]]= data[column[i]].apply(clean_point)\n",
        "  data[column[i]]= data[column[i]].astype('float')\n",
        "  data[column[i]].fillna(0.0,inplace=True)\n"
      ],
      "execution_count": null,
      "outputs": []
    },
    {
      "cell_type": "code",
      "metadata": {
        "id": "KHTr1VlE6Dhw"
      },
      "source": [
        "data.head()"
      ],
      "execution_count": null,
      "outputs": []
    },
    {
      "cell_type": "code",
      "metadata": {
        "id": "HZDbyP3h8esT"
      },
      "source": [
        "data.isnull().sum()"
      ],
      "execution_count": null,
      "outputs": []
    },
    {
      "cell_type": "markdown",
      "metadata": {
        "id": "OGzOugkHCUpA"
      },
      "source": [
        "# Exploratory Data Analysis\n"
      ]
    },
    {
      "cell_type": "code",
      "metadata": {
        "id": "L37qLxZZCIFq"
      },
      "source": [
        "sns.jointplot(x=data['Age'],y=data['Potential'],\n",
        "              joint_kws={'alpha':0.1,'s':5,'color':'red'},\n",
        "              marginal_kws={'color':'red'})"
      ],
      "execution_count": null,
      "outputs": []
    },
    {
      "cell_type": "code",
      "metadata": {
        "id": "6SLIBDByORaK"
      },
      "source": [
        "sns.lmplot(data = data, x = 'Age', y = 'Overall',lowess=True,scatter_kws={'alpha':0.01, 's':5,'color':'green'}, \n",
        "           line_kws={'color':'red'})"
      ],
      "execution_count": null,
      "outputs": []
    },
    {
      "cell_type": "code",
      "metadata": {
        "id": "KYmke9rxCnuW"
      },
      "source": [
        "sns.lmplot(data = data, x = 'SprintSpeed', y = 'Overall',lowess=True,scatter_kws={'alpha':0.01, 's':5,'color':'red'}, \n",
        "           line_kws={'color':'red'})"
      ],
      "execution_count": null,
      "outputs": []
    },
    {
      "cell_type": "code",
      "metadata": {
        "id": "omKPS9UkFGUK"
      },
      "source": [
        "sns.lmplot(data = data, x = 'BallControl', y = 'Overall',lowess=True,scatter_kws={'alpha':0.01, 's':5,'color':'red'}, \n",
        "           line_kws={'color':'red'})"
      ],
      "execution_count": null,
      "outputs": []
    },
    {
      "cell_type": "code",
      "metadata": {
        "id": "Zqjtz_huCez-"
      },
      "source": [
        "sns.lmplot(data = data, y = 'Overall', x = 'Weight',lowess=True,scatter_kws={'alpha':0.01, 's':5,'color':'green'}, \n",
        "           line_kws={'color':'red'})"
      ],
      "execution_count": null,
      "outputs": []
    },
    {
      "cell_type": "code",
      "metadata": {
        "id": "zslToMokHnz5"
      },
      "source": [
        "sns.lmplot(data = data, y = 'Overall', x = 'Height',lowess=True,scatter_kws={'alpha':0.01, 's':5,'color':'green'}, \n",
        "           line_kws={'color':'red'})"
      ],
      "execution_count": null,
      "outputs": []
    },
    {
      "cell_type": "code",
      "metadata": {
        "id": "raEAkyLbWFIk"
      },
      "source": [
        "sns.lmplot(data = data, y = 'Overall', x = 'Special',lowess=True,scatter_kws={'alpha':0.01, 's':5,'color':'blue'}, \n",
        "           line_kws={'color':'red'})"
      ],
      "execution_count": null,
      "outputs": []
    },
    {
      "cell_type": "code",
      "metadata": {
        "id": "rfZZqh5kZz2d"
      },
      "source": [
        "sns.lmplot(data = data, y = 'Overall', x = 'Skill Moves',lowess=True,scatter_kws={'alpha':0.01, 's':5,'color':'blue'}, \n",
        "           line_kws={'color':'red'})"
      ],
      "execution_count": null,
      "outputs": []
    },
    {
      "cell_type": "code",
      "metadata": {
        "id": "ch9rshyJbCp7"
      },
      "source": [
        "sns.lmplot(data = data, y = 'Overall', x = 'Crossing',lowess=True,scatter_kws={'alpha':0.01, 's':5,'color':'blue'}, \n",
        "           line_kws={'color':'red'})"
      ],
      "execution_count": null,
      "outputs": []
    },
    {
      "cell_type": "code",
      "metadata": {
        "id": "42wQHhLVcPfS"
      },
      "source": [
        "sns.lmplot(data = data, y = 'Overall', x = 'Finishing',lowess=True,scatter_kws={'alpha':0.01, 's':5,'color':'orange'}, \n",
        "           line_kws={'color':'red'})"
      ],
      "execution_count": null,
      "outputs": []
    },
    {
      "cell_type": "code",
      "metadata": {
        "id": "whw2VcgXd1Ew"
      },
      "source": [
        "sns.lmplot(data = data, y = 'Overall', x = 'HeadingAccuracy',lowess=True,scatter_kws={'alpha':0.01, 's':5,'color':'green'}, \n",
        "           line_kws={'color':'red'})"
      ],
      "execution_count": null,
      "outputs": []
    },
    {
      "cell_type": "code",
      "metadata": {
        "id": "MB8OrvNjeJSj"
      },
      "source": [
        "sns.lmplot(data = data, y = 'Overall', x = 'ShortPassing',lowess=True,scatter_kws={'alpha':0.01, 's':5,'color':'green'}, \n",
        "           line_kws={'color':'red'})"
      ],
      "execution_count": null,
      "outputs": []
    },
    {
      "cell_type": "code",
      "metadata": {
        "id": "-TSIpfLoebbo"
      },
      "source": [
        "sns.lmplot(data = data, y = 'Overall', x = 'Volleys',lowess=True,scatter_kws={'alpha':0.01, 's':5,'color':'blue'}, \n",
        "           line_kws={'color':'red'})"
      ],
      "execution_count": null,
      "outputs": []
    },
    {
      "cell_type": "code",
      "metadata": {
        "id": "EZ0SLGlqvTB_"
      },
      "source": [
        "sns.lmplot(data = data, y = 'Overall', x = 'Reactions',lowess=True,scatter_kws={'alpha':0.01, 's':5,'color':'green'}, \n",
        "           line_kws={'color':'red'})"
      ],
      "execution_count": null,
      "outputs": []
    },
    {
      "cell_type": "code",
      "metadata": {
        "id": "VEERxwxawhWM"
      },
      "source": [
        "sns.lmplot(data = data, y = 'Overall', x = 'ShotPower',lowess=True,scatter_kws={'alpha':0.01, 's':5,'color':'green'}, \n",
        "           line_kws={'color':'red'})"
      ],
      "execution_count": null,
      "outputs": []
    },
    {
      "cell_type": "code",
      "metadata": {
        "id": "nW2qzbeBwxjK"
      },
      "source": [
        "sns.lmplot(data = data, y = 'Overall', x = 'Stamina',lowess=True,scatter_kws={'alpha':0.01, 's':5,'color':'blue'}, \n",
        "           line_kws={'color':'red'})"
      ],
      "execution_count": null,
      "outputs": []
    },
    {
      "cell_type": "code",
      "metadata": {
        "id": "r0ylnd55xB3W"
      },
      "source": [
        "sns.lmplot(data = data, y = 'Overall', x = 'Jumping',lowess=True,scatter_kws={'alpha':0.01, 's':5,'color':'orange'}, \n",
        "           line_kws={'color':'red'})"
      ],
      "execution_count": null,
      "outputs": []
    },
    {
      "cell_type": "code",
      "metadata": {
        "id": "G2S11M4Aa6KM"
      },
      "source": [
        "data.head()"
      ],
      "execution_count": null,
      "outputs": []
    },
    {
      "cell_type": "markdown",
      "metadata": {
        "id": "rExPhZlOyLwl"
      },
      "source": [
        "# Modelling"
      ]
    },
    {
      "cell_type": "code",
      "metadata": {
        "id": "j3BAfiUpyRo3"
      },
      "source": [
        "\n",
        "x=data[['Age', 'Potential', 'Special','International Reputation', 'Weak Foot', \n",
        "        'Skill Moves', 'Weight','Crossing', 'Finishing', 'HeadingAccuracy', \n",
        "        'ShortPassing', 'Volleys','Dribbling', 'Curve', 'FKAccuracy', 'LongPassing',\n",
        "        'BallControl','Acceleration', 'SprintSpeed', 'Agility', 'Reactions', 'Balance',\n",
        "       'ShotPower', 'Jumping', 'Stamina', 'Strength', 'LongShots',\n",
        "       'Aggression', 'Interceptions', 'Positioning', 'Vision', 'Penalties',\n",
        "       'Composure', 'Marking', 'StandingTackle', 'SlidingTackle', 'Value',\n",
        "       'Wage']]\n",
        "\n",
        "y = data['Overall']\n",
        "\n",
        "\n",
        "import statsmodels.api as sm\n",
        "x= sm.add_constant(x)\n",
        "model = sm.OLS(y,x).fit()\n",
        "model.summary()\n",
        "\n",
        "\n"
      ],
      "execution_count": null,
      "outputs": []
    },
    {
      "cell_type": "code",
      "metadata": {
        "id": "iCadDyej6q7Y"
      },
      "source": [
        "from sklearn.model_selection import train_test_split\n",
        "X_train, X_test, y_train, y_test = train_test_split(x, y, test_size=0.2)\n"
      ],
      "execution_count": null,
      "outputs": []
    },
    {
      "cell_type": "code",
      "metadata": {
        "id": "YrBWDtn15eJp"
      },
      "source": [
        "X_train = pd.get_dummies(X_train)\n",
        "X_test = pd.get_dummies(X_test)\n",
        "print(X_test.shape,X_train.shape)\n",
        "print(y_test.shape,y_train.shape)"
      ],
      "execution_count": null,
      "outputs": []
    },
    {
      "cell_type": "code",
      "metadata": {
        "id": "bjrofgjX5wSM"
      },
      "source": [
        "from sklearn.linear_model import LinearRegression\n",
        "model = LinearRegression()\n",
        "model.fit(X_train, y_train)\n",
        "predictions = model.predict(X_test)"
      ],
      "execution_count": null,
      "outputs": []
    },
    {
      "cell_type": "code",
      "metadata": {
        "id": "yRq6WLFl7T2a"
      },
      "source": [
        "from sklearn.metrics import r2_score, mean_squared_error\n",
        "print('r2 score: '+str(r2_score(y_test, predictions)))\n",
        "print('RMSE : '+str(np.sqrt(mean_squared_error(y_test, predictions))))"
      ],
      "execution_count": null,
      "outputs": []
    },
    {
      "cell_type": "code",
      "metadata": {
        "id": "uNzt3T4INfqe"
      },
      "source": [
        "!pip install eli5"
      ],
      "execution_count": null,
      "outputs": []
    },
    {
      "cell_type": "code",
      "metadata": {
        "id": "fdwnehpoEA9X"
      },
      "source": [
        "import eli5 \n",
        "from eli5.sklearn import PermutationImportance\n"
      ],
      "execution_count": null,
      "outputs": []
    },
    {
      "cell_type": "code",
      "metadata": {
        "id": "rlxs1EOjASf4"
      },
      "source": [
        "perm = PermutationImportance(model, random_state=1).fit(X_test, y_test)\n",
        "eli5.show_weights(perm, feature_names = X_test.columns.tolist())"
      ],
      "execution_count": null,
      "outputs": []
    },
    {
      "cell_type": "code",
      "metadata": {
        "id": "FEUKwvhzepyT"
      },
      "source": [
        "y_hat = model.predict(X_test)\n",
        "\n"
      ],
      "execution_count": null,
      "outputs": []
    },
    {
      "cell_type": "code",
      "metadata": {
        "id": "IgTKxhQHf4v_"
      },
      "source": [
        "plt.figure(figsize=(18,10))\n",
        "sns.regplot(y_hat,y_test,scatter_kws={'color':'red','edgecolor':'blue','linewidth':'0.7'},line_kws={'color':'black','alpha':0.5})\n",
        "plt.xlabel('Predicted Overall')\n",
        "plt.ylabel('Overall')\n",
        "plt.title(\"Linear Prediction of Player Rating\")\n",
        "plt.show()"
      ],
      "execution_count": null,
      "outputs": []
    },
    {
      "cell_type": "code",
      "metadata": {
        "id": "QC4GQ5flhrXj"
      },
      "source": [
        "sns.histplot(y_test-y_hat)"
      ],
      "execution_count": null,
      "outputs": []
    },
    {
      "cell_type": "code",
      "metadata": {
        "id": "qcj173C7lb-g"
      },
      "source": [
        "print('Variance score: %.2f' % model.score(X_test, y_test))"
      ],
      "execution_count": null,
      "outputs": []
    },
    {
      "cell_type": "code",
      "metadata": {
        "id": "YbMiF3nSmJOI"
      },
      "source": [
        "print('Coefficients: \\n', model.coef_)"
      ],
      "execution_count": null,
      "outputs": []
    }
  ]
}